{
 "cells": [
  {
   "cell_type": "code",
   "execution_count": 92,
   "metadata": {},
   "outputs": [],
   "source": [
    "import torch\n",
    "import torch.nn as nn\n",
    "import torch.nn.functional as F\n",
    "import pandas as pd\n",
    "from sklearn.model_selection import train_test_split\n",
    "from sklearn.preprocessing import StandardScaler\n",
    "scalar = StandardScaler()\n",
    "import matplotlib.pyplot as plt\n",
    "#%matplotlib\n",
    "import numpy as np"
   ]
  },
  {
   "cell_type": "code",
   "execution_count": 93,
   "metadata": {},
   "outputs": [],
   "source": [
    "class Model(nn.Module):\n",
    "    def __init__(self, in_features=6, h1=16, h2=8, h3=4, out_features=2):\n",
    "        super().__init__()\n",
    "        self.fc1 = nn.Linear(in_features, h1) # passes input to layer 1\n",
    "        self.fc2 = nn.Linear(h1, h2) # passes layer 1 to layer 2\n",
    "        self.fc3 = nn.Linear(h2, h3) # passes layer 2 to layer 3\n",
    "        self.out = nn.Linear(h3, out_features) # passes layer 3 to output\n",
    "        self.dropout = nn.Dropout(p=0.5)\n",
    "\n",
    "    def forward(self, x):\n",
    "        x = F.relu(self.fc1(x))\n",
    "        x = self.dropout(x)\n",
    "        x = F.relu(self.fc2(x))\n",
    "        x = F.relu(self.fc3(x))\n",
    "        x = self.out(x)\n",
    "\n",
    "        return x"
   ]
  },
  {
   "cell_type": "code",
   "execution_count": 94,
   "metadata": {},
   "outputs": [],
   "source": [
    "# Set manual seed for randomizing\n",
    "torch.manual_seed(10)\n",
    "# Instantiate model\n",
    "model = Model()"
   ]
  },
  {
   "cell_type": "code",
   "execution_count": 95,
   "metadata": {},
   "outputs": [],
   "source": [
    "# Specify what is relevant data\n",
    "data = \"dataset/parkinsons.data\"\n",
    "selected_features = ['status', 'MDVP:Fo(Hz)', 'MDVP:Jitter(%)', 'MDVP:Shimmer', 'NHR', 'RPDE', 'PPE']\n",
    "\n",
    "# load dataset\n",
    "df = pd.read_csv(data)\n",
    "df = df[selected_features]\n"
   ]
  },
  {
   "cell_type": "code",
   "execution_count": 96,
   "metadata": {},
   "outputs": [],
   "source": [
    "# set x and y parameters\\\\\n",
    "x = df.drop(columns=['status']) # input variables\n",
    "y = df['status'] # target variable - binary value to determine if subject has parkinsons or not\n",
    "\n",
    "# Convert x and y to numpy arrays\n",
    "x = x.values\n",
    "y = y.values"
   ]
  },
  {
   "cell_type": "code",
   "execution_count": 97,
   "metadata": {},
   "outputs": [],
   "source": [
    "# train test split data\n",
    "x_train, x_test, y_train, y_test = train_test_split(x, y, test_size=0.2, random_state=10)\n",
    "\n",
    "# Scale x values\n",
    "x_train = scalar.fit_transform(x_train) # Fit on train, transform train\n",
    "x_test = scalar.transform(x_test) # Transform test using train scaler\n",
    "\n",
    "# Convert x values to float tensors\n",
    "x_train = torch.FloatTensor(x_train)\n",
    "x_test = torch.FloatTensor(x_test)\n",
    "\n",
    "# For classification: y is usually left as integers\n",
    "y_train = torch.LongTensor(y_train)\n",
    "y_test = torch.LongTensor(y_test)"
   ]
  },
  {
   "cell_type": "code",
   "execution_count": 98,
   "metadata": {},
   "outputs": [],
   "source": [
    "# Measure error\n",
    "criterion = nn.CrossEntropyLoss()\n",
    "# define optimiser and set learning rate\n",
    "optimiser = torch.optim.Adam(model.parameters(), lr=0.001)"
   ]
  },
  {
   "cell_type": "code",
   "execution_count": 99,
   "metadata": {},
   "outputs": [
    {
     "name": "stdout",
     "output_type": "stream",
     "text": [
      "Epoch count: 0 loss: 0.5932548642158508\n",
      "Epoch count: 10 loss: 0.5821462273597717\n",
      "Epoch count: 20 loss: 0.5740177631378174\n",
      "Epoch count: 30 loss: 0.5643435716629028\n",
      "Epoch count: 40 loss: 0.5519762635231018\n",
      "Epoch count: 50 loss: 0.5436710715293884\n",
      "Epoch count: 60 loss: 0.5331352353096008\n",
      "Epoch count: 70 loss: 0.5169530510902405\n",
      "Epoch count: 80 loss: 0.49486711621284485\n",
      "Epoch count: 90 loss: 0.48495763540267944\n"
     ]
    }
   ],
   "source": [
    "# train model\n",
    "epochs = 100\n",
    "losses = []\n",
    "for i in range(epochs):\n",
    "    y_pred = model.forward(x_train)\n",
    "\n",
    "    # measure loss\n",
    "    loss=criterion(y_pred, y_train) # the loss is determined at the differende between predicted and trained values\n",
    "    losses.append(loss.item()) # append loss to a list\n",
    "\n",
    "    # output every 10 epochs\n",
    "    if i % 10 == 0:\n",
    "        print(f\"Epoch count: {i} loss: {loss.item()}\")\n",
    "\n",
    "    optimiser.zero_grad # rests gradients of model parameters to zero to enhance accuracy\n",
    "    loss.backward() # computes gradients of loss according to each model's parameters using backpropagation algorithm\n",
    "    optimiser.step() # updates model paramemeters using gradient computed in loss.backward()"
   ]
  },
  {
   "cell_type": "code",
   "execution_count": 100,
   "metadata": {},
   "outputs": [
    {
     "data": {
      "image/png": "[encoded data removed]",
      "text/plain": [
       "<Figure size 640x480 with 1 Axes>"
      ]
     },
     "metadata": {},
     "output_type": "display_data"
    }
   ],
   "source": [
    "# visualise results\n",
    "\n",
    "plt.plot(range(epochs), losses)\n",
    "plt.ylabel=(\"error\")\n",
    "plt.xlabel=(\"Epoch\")"
   ]
  },
  {
   "cell_type": "code",
   "execution_count": 101,
   "metadata": {},
   "outputs": [
    {
     "name": "stdout",
     "output_type": "stream",
     "text": [
      "tensor(0.4934)\n"
     ]
    }
   ],
   "source": [
    "# Evaluate model on test data set\n",
    "with torch.no_grad(): # Turn off back propogation\n",
    "    y_eval = model.forward(x_test)\n",
    "    loss = criterion(y_eval, y_test) # find error\n",
    "    print(loss)"
   ]
  },
  {
   "cell_type": "code",
   "execution_count": 102,
   "metadata": {},
   "outputs": [
    {
     "name": "stdout",
     "output_type": "stream",
     "text": [
      "1.)  tensor([-0.8165,  1.5129]) \t 1 \t 1\n",
      "2.)  tensor([-0.7907,  0.9471]) \t 1 \t 1\n",
      "3.)  tensor([-0.7950,  1.1448]) \t 1 \t 1\n",
      "4.)  tensor([-0.5484,  0.1932]) \t 1 \t 1\n",
      "5.)  tensor([-0.6094,  0.5885]) \t 0 \t 1\n",
      "6.)  tensor([-0.6559,  0.8925]) \t 1 \t 1\n",
      "7.)  tensor([-0.5586,  0.4078]) \t 0 \t 1\n",
      "8.)  tensor([-0.9290,  1.5547]) \t 1 \t 1\n",
      "9.)  tensor([-0.6349,  0.9305]) \t 1 \t 1\n",
      "10.)  tensor([-0.8903,  1.3949]) \t 1 \t 1\n",
      "11.)  tensor([-0.5580,  0.3838]) \t 1 \t 1\n",
      "12.)  tensor([-0.7668,  1.1779]) \t 1 \t 1\n",
      "13.)  tensor([-0.6016,  0.6829]) \t 1 \t 1\n",
      "14.)  tensor([-0.6647,  0.6484]) \t 1 \t 1\n",
      "15.)  tensor([-0.5645,  0.5510]) \t 1 \t 1\n",
      "16.)  tensor([-0.5592,  0.3061]) \t 0 \t 1\n",
      "17.)  tensor([-0.5564,  0.4787]) \t 1 \t 1\n",
      "18.)  tensor([-0.8919,  1.6386]) \t 1 \t 1\n",
      "19.)  tensor([-0.6461,  0.5909]) \t 1 \t 1\n",
      "20.)  tensor([-0.8957,  1.2313]) \t 1 \t 1\n",
      "21.)  tensor([-0.8493,  1.3769]) \t 1 \t 1\n",
      "22.)  tensor([-0.4717,  0.2440]) \t 0 \t 1\n",
      "23.)  tensor([-0.4690,  0.2493]) \t 0 \t 1\n",
      "24.)  tensor([-0.5078,  0.2646]) \t 1 \t 1\n",
      "25.)  tensor([-0.8589,  1.2227]) \t 1 \t 1\n",
      "26.)  tensor([-0.5488,  0.4821]) \t 1 \t 1\n",
      "27.)  tensor([-0.8075,  1.0544]) \t 1 \t 1\n",
      "28.)  tensor([-0.9264,  1.7443]) \t 1 \t 1\n",
      "29.)  tensor([-0.5487,  0.1860]) \t 0 \t 1\n",
      "30.)  tensor([-0.3552,  0.3447]) \t 0 \t 1\n",
      "31.)  tensor([-0.6776,  1.1590]) \t 1 \t 1\n",
      "32.)  tensor([-0.5817,  0.3906]) \t 1 \t 1\n",
      "33.)  tensor([-0.6399,  0.8355]) \t 1 \t 1\n",
      "34.)  tensor([-0.5599,  0.4110]) \t 0 \t 1\n",
      "35.)  tensor([-0.4786,  0.2359]) \t 0 \t 1\n",
      "36.)  tensor([-0.6249,  0.6360]) \t 1 \t 1\n",
      "37.)  tensor([-0.4941,  0.2843]) \t 0 \t 1\n",
      "38.)  tensor([-0.9108,  1.3728]) \t 1 \t 1\n",
      "39.)  tensor([-0.4501,  0.2585]) \t 0 \t 1\n",
      "28 correct!\n"
     ]
    }
   ],
   "source": [
    "correct = 0\n",
    "with torch.no_grad():\n",
    "  for i, data in enumerate(x_test):\n",
    "    y_val = model.forward(data)\n",
    "\n",
    "    if y_test[i] == 0:\n",
    "      x = \"healthy\"\n",
    "    elif y_test[i] == 1:\n",
    "      x = \"parkinsons\"\n",
    "    \n",
    "     # Model prediction\n",
    "    print(f\"{i+1}.)  {str(y_val)} \\t {y_test[i]} \\t {y_val.argmax().item()}\")\n",
    "\n",
    "    # If it is correct\n",
    "    if y_val.argmax().item() == y_test[i]:\n",
    "      correct +=1\n",
    "\n",
    "print(f\"{correct} correct!\")"
   ]
  },
  {
   "cell_type": "code",
   "execution_count": 103,
   "metadata": {},
   "outputs": [],
   "source": [
    "new_data = torch.tensor([201.464000, 0.001980, 0.011940, 0.001350, 0.344252, 0.057610])"
   ]
  },
  {
   "cell_type": "code",
   "execution_count": 104,
   "metadata": {},
   "outputs": [
    {
     "name": "stdout",
     "output_type": "stream",
     "text": [
      "Patient is most likely healthy\n"
     ]
    }
   ],
   "source": [
    "# feed model new data and apply softmax function to derive probabilities\n",
    "with torch.no_grad():\n",
    "    pred_tensor = model(new_data) # raw data\n",
    "    probabilities = F.softmax(pred_tensor, dim=0)  # Normalize to probabilities\n",
    "    pred_index = torch.argmax(probabilities)\n",
    "\n",
    "    # convert probs to array\n",
    "    prob_array = probabilities.numpy()\n",
    "\n",
    "    # access probabilities and convert to percentage\n",
    "    prob_healthy = prob_array[0] * 100\n",
    "    prob_parkinsons = prob_array[1] * 100\n",
    "\"\"\"\n",
    "    print(f\"probability of being healthy: {prob_healthy}%\")\n",
    "    print(f\"probability of parkinson diagnosis: {prob_parkinsons}%\")\n",
    "\"\"\"\n",
    "if prob_healthy > prob_parkinsons:\n",
    "    print(\"Patient is most likely healthy\")\n",
    "else:\n",
    "    print(\"Patient is more likely to be diagnosed with parkinson\")\n"
   ]
  }
 ],
 "metadata": {
  "kernelspec": {
   "display_name": "Python 3",
   "language": "python",
   "name": "python3"
  },
  "language_info": {
   "codemirror_mode": {
    "name": "ipython",
    "version": 3
   },
   "file_extension": ".py",
   "mimetype": "text/x-python",
   "name": "python",
   "nbconvert_exporter": "python",
   "pygments_lexer": "ipython3",
   "version": "3.12.3"
  }
 },
 "nbformat": 4,
 "nbformat_minor": 2
}
