{
 "cells": [
  {
   "cell_type": "code",
   "execution_count": 183,
   "metadata": {},
   "outputs": [],
   "source": [
    "from ucimlrepo import fetch_ucirepo\n",
    "import torch\n",
    "import torch.nn as nn\n",
    "import torch.nn.functional as F\n",
    "import pandas as pd\n",
    "from sklearn.model_selection import train_test_split\n",
    "from sklearn.preprocessing import StandardScaler\n",
    "scalar = StandardScaler()\n",
    "import matplotlib.pyplot as plt\n",
    "#%matplotlib"
   ]
  },
  {
   "cell_type": "code",
   "execution_count": 184,
   "metadata": {},
   "outputs": [],
   "source": [
    "class Model(nn.Module):\n",
    "    def __init__(self, in_features=6, h1=16, h2=8, h3=4, out_features=2):\n",
    "        super().__init__()\n",
    "        self.fc1 = nn.Linear(in_features, h1) # passes input to layer 1\n",
    "        self.fc2 = nn.Linear(h1, h2) # passes layer 1 to layer 2\n",
    "        self.fc3 = nn.Linear(h2, h3) # passes layer 2 to layer 3\n",
    "        self.out = nn.Linear(h3, out_features) # passes layer 3 to output\n",
    "\n",
    "    def forward(self, x):\n",
    "        x = F.relu(self.fc1(x))\n",
    "        x = F.relu(self.fc2(x))\n",
    "        x = F.relu(self.fc3(x))\n",
    "        x = self.out(x)\n",
    "\n",
    "        return x"
   ]
  },
  {
   "cell_type": "code",
   "execution_count": 185,
   "metadata": {},
   "outputs": [],
   "source": [
    "# Set manual seed for randomizing\n",
    "torch.manual_seed(42)\n",
    "# Instantiate model\n",
    "model = Model()"
   ]
  },
  {
   "cell_type": "code",
   "execution_count": 186,
   "metadata": {},
   "outputs": [
    {
     "name": "stdout",
     "output_type": "stream",
     "text": [
      "status              1.000000\n",
      "MDVP:Fo(Hz)       117.870000\n",
      "MDVP:Jitter(%)      0.006470\n",
      "MDVP:Shimmer        0.030870\n",
      "NHR                 0.026310\n",
      "RPDE                0.628300\n",
      "PPE                 0.206256\n",
      "Name: 155, dtype: float64\n"
     ]
    }
   ],
   "source": [
    "# Specify what is relevant data\n",
    "data = \"dataset/parkinsons.data\"\n",
    "selected_features = ['status', 'MDVP:Fo(Hz)', 'MDVP:Jitter(%)', 'MDVP:Shimmer', 'NHR', 'RPDE', 'PPE']\n",
    "\n",
    "# load dataset\n",
    "df = pd.read_csv(data)\n",
    "df = df[selected_features]\n",
    "print(df.iloc[155])\n"
   ]
  },
  {
   "cell_type": "code",
   "execution_count": 187,
   "metadata": {},
   "outputs": [],
   "source": [
    "# set x and y parameters\n",
    "x = df.drop(columns=['status']) # input variables\n",
    "y = df['status'] # target variable - binary value to determine if subject has parkinsons or not\n",
    "\n",
    "# Convert x and y to numpy arrays\n",
    "x = x.values\n",
    "y = y.values"
   ]
  },
  {
   "cell_type": "code",
   "execution_count": 188,
   "metadata": {},
   "outputs": [],
   "source": [
    "# train test split data\n",
    "x_train, x_test, y_train, y_test = train_test_split(x, y, test_size=0.2, random_state=42)\n",
    "\n",
    "# Scale x values\n",
    "x_train = scalar.fit_transform(x_train) # Fit on train, transform train\n",
    "x_test = scalar.transform(x_test) # Transform test using train scaler\n",
    "\n",
    "# Convert x values to float tensors\n",
    "x_train = torch.FloatTensor(x_train)\n",
    "x_test = torch.FloatTensor(x_test)\n",
    "\n",
    "# For classification: y is usually left as integers\n",
    "y_train = torch.LongTensor(y_train)\n",
    "y_test = torch.LongTensor(y_test)"
   ]
  },
  {
   "cell_type": "code",
   "execution_count": 189,
   "metadata": {},
   "outputs": [],
   "source": [
    "# Measure error\n",
    "criterion = nn.CrossEntropyLoss()\n",
    "# define optimiser and set learning rate\n",
    "optimiser = torch.optim.Adam(model.parameters(), lr=0.001)"
   ]
  },
  {
   "cell_type": "code",
   "execution_count": 191,
   "metadata": {},
   "outputs": [
    {
     "name": "stdout",
     "output_type": "stream",
     "text": [
      "Epoch count: 0 loss: 0.7005883455276489\n",
      "Epoch count: 10 loss: 0.6933759450912476\n",
      "Epoch count: 20 loss: 0.6836816072463989\n",
      "Epoch count: 30 loss: 0.6705209016799927\n",
      "Epoch count: 40 loss: 0.6528934240341187\n",
      "Epoch count: 50 loss: 0.6320486068725586\n",
      "Epoch count: 60 loss: 0.6083197593688965\n",
      "Epoch count: 70 loss: 0.582001805305481\n",
      "Epoch count: 80 loss: 0.553573727607727\n",
      "Epoch count: 90 loss: 0.5242205858230591\n"
     ]
    }
   ],
   "source": [
    "# train model\n",
    "epochs = 100\n",
    "losses = []\n",
    "for i in range(epochs):\n",
    "    y_pred = model.forward(x_train)\n",
    "\n",
    "    # measure loss\n",
    "    loss=criterion(y_pred, y_train) # the loss is determined at the differende between predicted and trained values\n",
    "    losses.append(loss.item()) # append loss to a list\n",
    "\n",
    "    # output every 10 epochs\n",
    "    if i % 10 == 0:\n",
    "        print(f\"Epoch count: {i} loss: {loss.item()}\")\n",
    "\n",
    "    optimiser.zero_grad # rests gradients of model parameters to zero to enhance accuracy\n",
    "    loss.backward() # computes gradients of loss according to each model's parameters using backpropagation algorithm\n",
    "    optimiser.step() # updates model paramemeters using gradient computed in loss.backward()"
   ]
  },
  {
   "cell_type": "code",
   "execution_count": 192,
   "metadata": {},
   "outputs": [
    {
     "data": {
      "image/png": "[encoded data removed]",
      "text/plain": [
       "<Figure size 640x480 with 1 Axes>"
      ]
     },
     "metadata": {},
     "output_type": "display_data"
    }
   ],
   "source": [
    "# visualise results\n",
    "\n",
    "plt.plot(range(epochs), losses)\n",
    "plt.ylabel=(\"error\")\n",
    "plt.xlabel=(\"Epoch\")"
   ]
  },
  {
   "cell_type": "code",
   "execution_count": 193,
   "metadata": {},
   "outputs": [
    {
     "name": "stdout",
     "output_type": "stream",
     "text": [
      "tensor(0.4769)\n"
     ]
    }
   ],
   "source": [
    "# Evaluate model on test data set\n",
    "with torch.no_grad(): # Turn off back propogation\n",
    "    y_eval = model.forward(x_test)\n",
    "    loss = criterion(y_eval, y_test) # find error\n",
    "    print(loss)"
   ]
  },
  {
   "cell_type": "code",
   "execution_count": null,
   "metadata": {},
   "outputs": [
    {
     "name": "stdout",
     "output_type": "stream",
     "text": [
      "1.)  tensor([-1.2645, -0.0152]) \t 1 \t 1\n",
      "2.)  tensor([-0.8674, -0.2248]) \t 1 \t 1\n",
      "3.)  tensor([-0.9852, -0.1681]) \t 1 \t 1\n",
      "4.)  tensor([-0.7148, -0.3035]) \t 1 \t 1\n",
      "5.)  tensor([-1.2543, -0.0174]) \t 1 \t 1\n",
      "6.)  tensor([-0.8589, -0.2332]) \t 1 \t 1\n",
      "7.)  tensor([-1.2564, -0.0201]) \t 1 \t 1\n",
      "8.)  tensor([-0.7767, -0.2742]) \t 1 \t 1\n",
      "9.)  tensor([-1.0571, -0.1183]) \t 1 \t 1\n",
      "10.)  tensor([-0.7073, -0.3082]) \t 1 \t 1\n",
      "11.)  tensor([-0.9303, -0.1987]) \t 0 \t 1\n",
      "12.)  tensor([-1.7742,  0.2626]) \t 1 \t 1\n",
      "13.)  tensor([-0.9173, -0.2005]) \t 1 \t 1\n",
      "14.)  tensor([-0.9293, -0.1906]) \t 1 \t 1\n",
      "15.)  tensor([-1.4284,  0.0613]) \t 1 \t 1\n",
      "16.)  tensor([-0.8874, -0.2170]) \t 1 \t 1\n",
      "17.)  tensor([-1.0202, -0.1337]) \t 1 \t 1\n",
      "18.)  tensor([-0.7161, -0.3067]) \t 1 \t 1\n",
      "19.)  tensor([-1.0366, -0.1519]) \t 0 \t 1\n",
      "20.)  tensor([-0.7200, -0.3061]) \t 1 \t 1\n",
      "21.)  tensor([-1.0714, -0.1179]) \t 1 \t 1\n",
      "22.)  tensor([-0.7632, -0.2753]) \t 1 \t 1\n",
      "23.)  tensor([-0.9749, -0.1647]) \t 1 \t 1\n",
      "24.)  tensor([-0.6704, -0.3144]) \t 0 \t 1\n",
      "25.)  tensor([-1.1902, -0.0658]) \t 1 \t 1\n",
      "26.)  tensor([-1.0297, -0.1481]) \t 1 \t 1\n",
      "27.)  tensor([-1.0158, -0.1471]) \t 1 \t 1\n",
      "28.)  tensor([-0.9713, -0.1474]) \t 1 \t 1\n",
      "29.)  tensor([-0.6867, -0.3117]) \t 0 \t 1\n",
      "30.)  tensor([-2.0530,  0.4044]) \t 1 \t 1\n",
      "31.)  tensor([-0.7769, -0.2808]) \t 1 \t 1\n",
      "32.)  tensor([-0.8103, -0.2546]) \t 1 \t 1\n",
      "33.)  tensor([-0.7949, -0.2744]) \t 1 \t 1\n",
      "34.)  tensor([-0.7307, -0.3043]) \t 0 \t 1\n",
      "35.)  tensor([-1.0094, -0.1492]) \t 1 \t 1\n",
      "36.)  tensor([-0.6803, -0.3127]) \t 0 \t 1\n",
      "37.)  tensor([-1.4792,  0.1005]) \t 1 \t 1\n",
      "38.)  tensor([-0.7702, -0.2834]) \t 0 \t 1\n",
      "39.)  tensor([-0.8247, -0.2457]) \t 1 \t 1\n",
      "32 correct!\n"
     ]
    }
   ],
   "source": [
    "correct = 0\n",
    "with torch.no_grad():\n",
    "  for i, data in enumerate(x_test):\n",
    "    y_val = model.forward(data)\n",
    "\n",
    "    if y_test[i] == 0:\n",
    "      x = \"healthy\"\n",
    "    elif y_test[i] == 1:\n",
    "      x = 'parkinsons'\n",
    "    \n",
    "     # Find out what flower class the model thinks it is\n",
    "    print(f\"{i+1}.)  {str(y_val)} \\t {y_test[i]} \\t {y_val.argmax().item()}\")\n",
    "\n",
    "    # If it is correct\n",
    "    if y_val.argmax().item() == y_test[i]:\n",
    "      correct +=1\n",
    "\n",
    "print(f\"{correct} correct!\")"
   ]
  },
  {
   "cell_type": "code",
   "execution_count": 195,
   "metadata": {},
   "outputs": [],
   "source": [
    "new_sample = torch.tensor([150.5, 0.004, 0.035, 0.012, 0.56, 0.42]) \n"
   ]
  },
  {
   "cell_type": "code",
   "execution_count": 196,
   "metadata": {},
   "outputs": [
    {
     "name": "stdout",
     "output_type": "stream",
     "text": [
      "probability of healthy: 0.03386535122990608%\n",
      "probability of parkinsons: 99.96613311767578%\n",
      "Patient most likely has parkinsons\n"
     ]
    }
   ],
   "source": [
    "# feed model new data and apply softmax function to derive probabilities\n",
    "with torch.no_grad():\n",
    "    pred_tensor = model(new_sample) # raw data\n",
    "    probabilities = F.softmax(pred_tensor, dim=0)  # Normalize to probabilities\n",
    "    pred_index = torch.argmax(probabilities)\n",
    "\n",
    "    # convert probs to array\n",
    "    prob_array = probabilities.numpy()\n",
    "\n",
    "    # access probabilities and convert to percentage\n",
    "    prob_healthy = prob_array[0] * 100\n",
    "    prob_parkinsons = prob_array[1] * 100\n",
    "\n",
    "    print(f\"probability of healthy: {prob_healthy}%\")\n",
    "    print(f\"probability of parkinsons: {prob_parkinsons}%\")\n",
    "\n",
    "    if prob_healthy > prob_parkinsons:\n",
    "        print(\"Patient is most likely healthy\")\n",
    "    else:\n",
    "        print(\"Patient most likely has parkinsons\")"
   ]
  }
 ],
 "metadata": {
  "kernelspec": {
   "display_name": "Python 3",
   "language": "python",
   "name": "python3"
  },
  "language_info": {
   "codemirror_mode": {
    "name": "ipython",
    "version": 3
   },
   "file_extension": ".py",
   "mimetype": "text/x-python",
   "name": "python",
   "nbconvert_exporter": "python",
   "pygments_lexer": "ipython3",
   "version": "3.12.3"
  }
 },
 "nbformat": 4,
 "nbformat_minor": 2
}
